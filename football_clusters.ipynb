{
 "cells": [
  {
   "cell_type": "markdown",
   "metadata": {},
   "source": [
    " ### Внезапно из API пропало поле 'squadMarketValue'... (см.ниже)\n",
    " ### Решил заменить необычным соотношением между количеством букв в названии команды и отношением её побед и поражений"
   ]
  },
  {
   "cell_type": "code",
   "execution_count": 47,
   "metadata": {
    "collapsed": true
   },
   "outputs": [],
   "source": [
    "import requests\n",
    "\n",
    "import pandas as pd\n",
    "import numpy as np\n",
    "import matplotlib.pyplot as plt\n",
    "from scipy.cluster.vq import whiten, kmeans2\n",
    "\n",
    "%matplotlib inline"
   ]
  },
  {
   "cell_type": "code",
   "execution_count": 70,
   "metadata": {
    "collapsed": true
   },
   "outputs": [],
   "source": [
    "def call_api(uri, result_key):\n",
    "    json = {}\n",
    "    try:\n",
    "        json = requests.get(uri, headers = { 'X-Auth-Token': 'fc280c29bc44416ca02869f619b3a878' }).json()\n",
    "        return json[result_key]\n",
    "    except:\n",
    "        print(json)\n",
    "        return None"
   ]
  },
  {
   "cell_type": "code",
   "execution_count": 97,
   "metadata": {},
   "outputs": [
    {
     "data": {
      "text/plain": [
       "[{'_links': {'fixtures': {'href': 'http://api.football-data.org/v1/teams/496/fixtures'},\n",
       "   'players': {'href': 'http://api.football-data.org/v1/teams/496/players'},\n",
       "   'self': {'href': 'http://api.football-data.org/v1/teams/496'}},\n",
       "  'code': None,\n",
       "  'crestUrl': 'http://upload.wikimedia.org/wikipedia/de/6/63/Rio_Ave_FC.svg',\n",
       "  'name': 'FC Rio Ave',\n",
       "  'shortName': 'Rio Ave'},\n",
       " {'_links': {'fixtures': {'href': 'http://api.football-data.org/v1/teams/503/fixtures'},\n",
       "   'players': {'href': 'http://api.football-data.org/v1/teams/503/players'},\n",
       "   'self': {'href': 'http://api.football-data.org/v1/teams/503'}},\n",
       "  'code': 'FCP',\n",
       "  'crestUrl': 'http://upload.wikimedia.org/wikipedia/de/e/ed/FC_Porto_1922-2005.svg',\n",
       "  'name': 'FC Porto',\n",
       "  'shortName': 'Porto'},\n",
       " {'_links': {'fixtures': {'href': 'http://api.football-data.org/v1/teams/583/fixtures'},\n",
       "   'players': {'href': 'http://api.football-data.org/v1/teams/583/players'},\n",
       "   'self': {'href': 'http://api.football-data.org/v1/teams/583'}},\n",
       "  'code': None,\n",
       "  'crestUrl': 'https://upload.wikimedia.org/wikipedia/pt/8/8c/Logo_Moreirense.svg',\n",
       "  'name': 'Moreirense FC',\n",
       "  'shortName': 'Moreirense'},\n",
       " {'_links': {'fixtures': {'href': 'http://api.football-data.org/v1/teams/507/fixtures'},\n",
       "   'players': {'href': 'http://api.football-data.org/v1/teams/507/players'},\n",
       "   'self': {'href': 'http://api.football-data.org/v1/teams/507'}},\n",
       "  'code': None,\n",
       "  'crestUrl': 'http://upload.wikimedia.org/wikipedia/de/f/f2/FC_Pacos_de_Ferreira.svg',\n",
       "  'name': 'FC Paços de Ferreira',\n",
       "  'shortName': 'Ferreira'},\n",
       " {'_links': {'fixtures': {'href': 'http://api.football-data.org/v1/teams/498/fixtures'},\n",
       "   'players': {'href': 'http://api.football-data.org/v1/teams/498/players'},\n",
       "   'self': {'href': 'http://api.football-data.org/v1/teams/498'}},\n",
       "  'code': 'SCP',\n",
       "  'crestUrl': 'https://upload.wikimedia.org/wikipedia/en/3/3e/Sporting_Clube_de_Portugal.png',\n",
       "  'name': 'Sporting CP',\n",
       "  'shortName': 'Sporting'},\n",
       " {'_links': {'fixtures': {'href': 'http://api.football-data.org/v1/teams/504/fixtures'},\n",
       "   'players': {'href': 'http://api.football-data.org/v1/teams/504/players'},\n",
       "   'self': {'href': 'http://api.football-data.org/v1/teams/504'}},\n",
       "  'code': None,\n",
       "  'crestUrl': 'http://upload.wikimedia.org/wikipedia/de/3/3b/Marítimo_Funchal.svg',\n",
       "  'name': 'Maritimo Funchal',\n",
       "  'shortName': 'M Funchal'},\n",
       " {'_links': {'fixtures': {'href': 'http://api.football-data.org/v1/teams/1049/fixtures'},\n",
       "   'players': {'href': 'http://api.football-data.org/v1/teams/1049/players'},\n",
       "   'self': {'href': 'http://api.football-data.org/v1/teams/1049'}},\n",
       "  'code': None,\n",
       "  'crestUrl': 'https://upload.wikimedia.org/wikipedia/commons/f/fc/Emblema_CD_Tondela.png',\n",
       "  'name': 'CD Tondela',\n",
       "  'shortName': 'Tondela'},\n",
       " {'_links': {'fixtures': {'href': 'http://api.football-data.org/v1/teams/495/fixtures'},\n",
       "   'players': {'href': 'http://api.football-data.org/v1/teams/495/players'},\n",
       "   'self': {'href': 'http://api.football-data.org/v1/teams/495'}},\n",
       "  'code': 'SLB',\n",
       "  'crestUrl': 'http://upload.wikimedia.org/wikipedia/de/8/89/Logo_Benfica_Lissabon.svg',\n",
       "  'name': 'SL Benfica',\n",
       "  'shortName': 'Lisbon'},\n",
       " {'_links': {'fixtures': {'href': 'http://api.football-data.org/v1/teams/810/fixtures'},\n",
       "   'players': {'href': 'http://api.football-data.org/v1/teams/810/players'},\n",
       "   'self': {'href': 'http://api.football-data.org/v1/teams/810'}},\n",
       "  'code': None,\n",
       "  'crestUrl': 'http://upload.wikimedia.org/wikipedia/en/4/40/Boavista_F.C._logo.svg',\n",
       "  'name': 'Boavista Porto FC',\n",
       "  'shortName': 'Boavista'},\n",
       " {'_links': {'fixtures': {'href': 'http://api.football-data.org/v1/teams/712/fixtures'},\n",
       "   'players': {'href': 'http://api.football-data.org/v1/teams/712/players'},\n",
       "   'self': {'href': 'http://api.football-data.org/v1/teams/712'}},\n",
       "  'code': None,\n",
       "  'crestUrl': 'http://upload.wikimedia.org/wikipedia/de/b/b4/FC_Arouca.png',\n",
       "  'name': 'FC Arouca',\n",
       "  'shortName': 'Arouca'},\n",
       " {'_links': {'fixtures': {'href': 'http://api.football-data.org/v1/teams/506/fixtures'},\n",
       "   'players': {'href': 'http://api.football-data.org/v1/teams/506/players'},\n",
       "   'self': {'href': 'http://api.football-data.org/v1/teams/506'}},\n",
       "  'code': None,\n",
       "  'crestUrl': 'http://upload.wikimedia.org/wikipedia/de/b/bd/Vitória_Setúbal.svg',\n",
       "  'name': 'Vitoria Setubal',\n",
       "  'shortName': 'Setubal'},\n",
       " {'_links': {'fixtures': {'href': 'http://api.football-data.org/v1/teams/711/fixtures'},\n",
       "   'players': {'href': 'http://api.football-data.org/v1/teams/711/players'},\n",
       "   'self': {'href': 'http://api.football-data.org/v1/teams/711'}},\n",
       "  'code': None,\n",
       "  'crestUrl': 'http://upload.wikimedia.org/wikipedia/de/d/db/Belenenses_Lissabon.svg',\n",
       "  'name': 'C.F. Os Belenenses',\n",
       "  'shortName': 'B. Lisbon'},\n",
       " {'_links': {'fixtures': {'href': 'http://api.football-data.org/v1/teams/502/fixtures'},\n",
       "   'players': {'href': 'http://api.football-data.org/v1/teams/502/players'},\n",
       "   'self': {'href': 'http://api.football-data.org/v1/teams/502'}},\n",
       "  'code': None,\n",
       "  'crestUrl': 'http://upload.wikimedia.org/wikipedia/de/8/81/Vitoria_Guimaraes.svg',\n",
       "  'name': 'Vitoria Guimaraes',\n",
       "  'shortName': 'Guimares'},\n",
       " {'_links': {'fixtures': {'href': 'http://api.football-data.org/v1/teams/497/fixtures'},\n",
       "   'players': {'href': 'http://api.football-data.org/v1/teams/497/players'},\n",
       "   'self': {'href': 'http://api.football-data.org/v1/teams/497'}},\n",
       "  'code': None,\n",
       "  'crestUrl': 'http://upload.wikimedia.org/wikipedia/de/f/f3/Sporting_Clube_de_Braga.svg',\n",
       "  'name': 'Sporting Braga',\n",
       "  'shortName': 'Braga'},\n",
       " {'_links': {'fixtures': {'href': 'http://api.football-data.org/v1/teams/582/fixtures'},\n",
       "   'players': {'href': 'http://api.football-data.org/v1/teams/582/players'},\n",
       "   'self': {'href': 'http://api.football-data.org/v1/teams/582'}},\n",
       "  'code': None,\n",
       "  'crestUrl': 'http://upload.wikimedia.org/wikipedia/de/1/14/GD_Estoril_Praia.svg',\n",
       "  'name': 'GD Estoril Praia',\n",
       "  'shortName': 'Estoril'},\n",
       " {'_links': {'fixtures': {'href': 'http://api.football-data.org/v1/teams/500/fixtures'},\n",
       "   'players': {'href': 'http://api.football-data.org/v1/teams/500/players'},\n",
       "   'self': {'href': 'http://api.football-data.org/v1/teams/500'}},\n",
       "  'code': None,\n",
       "  'crestUrl': None,\n",
       "  'name': 'Feirense',\n",
       "  'shortName': None},\n",
       " {'_links': {'fixtures': {'href': 'http://api.football-data.org/v1/teams/501/fixtures'},\n",
       "   'players': {'href': 'http://api.football-data.org/v1/teams/501/players'},\n",
       "   'self': {'href': 'http://api.football-data.org/v1/teams/501'}},\n",
       "  'code': None,\n",
       "  'crestUrl': 'http://upload.wikimedia.org/wikipedia/de/e/ee/Nacional_Funchal.svg',\n",
       "  'name': 'Nacional Funchal',\n",
       "  'shortName': 'Funchal'},\n",
       " {'_links': {'fixtures': {'href': 'http://api.football-data.org/v1/teams/1103/fixtures'},\n",
       "   'players': {'href': 'http://api.football-data.org/v1/teams/1103/players'},\n",
       "   'self': {'href': 'http://api.football-data.org/v1/teams/1103'}},\n",
       "  'code': None,\n",
       "  'crestUrl': 'https://upload.wikimedia.org/wikipedia/en/0/05/G_D_Chaves.png',\n",
       "  'name': 'G.D. Chaves',\n",
       "  'shortName': 'Chaves'}]"
      ]
     },
     "execution_count": 97,
     "metadata": {},
     "output_type": "execute_result"
    }
   ],
   "source": [
    "teams = call_api('http://api.football-data.org/v1/soccerseasons/439/teams', 'teams')\n",
    "teams"
   ]
  },
  {
   "cell_type": "code",
   "execution_count": 98,
   "metadata": {},
   "outputs": [],
   "source": [
    "team_for_pd = []\n",
    "for team in teams:\n",
    "    len_name = len(team['name'])\n",
    "    fixtures = call_api(team['_links']['fixtures']['href'], 'fixtures')\n",
    "    wins = 0\n",
    "    defeats = 0\n",
    "    for f in fixtures:\n",
    "        if f['status'] == 'FINISHED':\n",
    "            if team['name'] == f['homeTeamName']:\n",
    "                if f['result']['goalsAwayTeam'] > f['result']['goalsHomeTeam']:\n",
    "                    defeats = defeats + 1\n",
    "                elif f['result']['goalsAwayTeam'] < f['result']['goalsHomeTeam']:\n",
    "                    wins = wins + 1\n",
    "            else:\n",
    "                if f['result']['goalsHomeTeam'] > f['result']['goalsAwayTeam']:\n",
    "                    defeats = defeats + 1\n",
    "                elif f['result']['goalsAwayTeam'] > f['result']['goalsHomeTeam']:\n",
    "                    wins = wins + 1\n",
    "\n",
    "    team_for_pd.append({'name': team['name'], 'len_name': len_name, 'wins/defeats': (wins+1)/(defeats+1)})\n"
   ]
  },
  {
   "cell_type": "code",
   "execution_count": 99,
   "metadata": {},
   "outputs": [],
   "source": [
    "teams_pd = pd.DataFrame(team_for_pd)"
   ]
  },
  {
   "cell_type": "code",
   "execution_count": 102,
   "metadata": {},
   "outputs": [
    {
     "data": {
      "text/plain": [
       "<matplotlib.axes._subplots.AxesSubplot at 0x116d06fd0>"
      ]
     },
     "execution_count": 102,
     "metadata": {},
     "output_type": "execute_result"
    },
    {
     "data": {
      "image/png": "[encoded data removed]",
      "text/plain": [
       "<matplotlib.figure.Figure at 0x11a270828>"
      ]
     },
     "metadata": {},
     "output_type": "display_data"
    }
   ],
   "source": [
    "teams_pd.plot.scatter(x='len_name', y='wins/defeats', s=100)"
   ]
  },
  {
   "cell_type": "code",
   "execution_count": 103,
   "metadata": {},
   "outputs": [],
   "source": [
    "del teams_pd['name']"
   ]
  },
  {
   "cell_type": "code",
   "execution_count": 104,
   "metadata": {},
   "outputs": [],
   "source": [
    "whitened = whiten(teams_pd.as_matrix())"
   ]
  },
  {
   "cell_type": "code",
   "execution_count": 105,
   "metadata": {},
   "outputs": [],
   "source": [
    "centroids, cluster_map = kmeans2(whitened, 3)"
   ]
  },
  {
   "cell_type": "code",
   "execution_count": 106,
   "metadata": {},
   "outputs": [],
   "source": [
    "colors_map = {0: 'r', 1: 'g', 2: 'b', 3: 'y', 4: 'm'}\n",
    "colors = [colors_map[c] for c in cluster_map]"
   ]
  },
  {
   "cell_type": "code",
   "execution_count": 108,
   "metadata": {},
   "outputs": [
    {
     "data": {
      "text/plain": [
       "<matplotlib.axes._subplots.AxesSubplot at 0x11a270048>"
      ]
     },
     "execution_count": 108,
     "metadata": {},
     "output_type": "execute_result"
    },
    {
     "data": {
      "image/png": "[encoded data removed]",
      "text/plain": [
       "<matplotlib.figure.Figure at 0x11a4ca518>"
      ]
     },
     "metadata": {},
     "output_type": "display_data"
    }
   ],
   "source": [
    "teams_pd.plot.scatter(x='len_name', y='wins/defeats', c=colors, s=100)"
   ]
  },
  {
   "cell_type": "code",
   "execution_count": 112,
   "metadata": {},
   "outputs": [],
   "source": [
    "centroids, cluster_map = kmeans2(whitened, 5)"
   ]
  },
  {
   "cell_type": "code",
   "execution_count": 113,
   "metadata": {},
   "outputs": [],
   "source": [
    "colors_map = {0: 'r', 1: 'g', 2: 'b', 3: 'y', 4: 'm'}\n",
    "colors = [colors_map[c] for c in cluster_map]"
   ]
  },
  {
   "cell_type": "code",
   "execution_count": 114,
   "metadata": {},
   "outputs": [
    {
     "data": {
      "text/plain": [
       "<matplotlib.axes._subplots.AxesSubplot at 0x11a58cb70>"
      ]
     },
     "execution_count": 114,
     "metadata": {},
     "output_type": "execute_result"
    },
    {
     "data": {
      "image/png": "[encoded data removed]",
      "text/plain": [
       "<matplotlib.figure.Figure at 0x11a599f98>"
      ]
     },
     "metadata": {},
     "output_type": "display_data"
    }
   ],
   "source": [
    "teams_pd.plot.scatter(x='len_name', y='wins/defeats', c=colors, s=100)"
   ]
  }
 ],
 "metadata": {
  "kernelspec": {
   "display_name": "Python 3",
   "language": "python",
   "name": "python3"
  },
  "language_info": {
   "codemirror_mode": {
    "name": "ipython",
    "version": 3
   },
   "file_extension": ".py",
   "mimetype": "text/x-python",
   "name": "python",
   "nbconvert_exporter": "python",
   "pygments_lexer": "ipython3",
   "version": "3.6.0"
  }
 },
 "nbformat": 4,
 "nbformat_minor": 2
}
